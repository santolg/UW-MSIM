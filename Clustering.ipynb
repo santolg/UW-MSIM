{
 "cells": [
  {
   "cell_type": "code",
   "execution_count": 2,
   "id": "b2a40cb1",
   "metadata": {},
   "outputs": [],
   "source": [
    "#load libraries\n",
    "import pandas as pd\n",
    "import matplotlib.pyplot as plt\n",
    "from sklearn.cluster import KMeans\n",
    "from sklearn.cluster import AgglomerativeClustering\n",
    "from sklearn.preprocessing import StandardScaler\n",
    "import scipy.cluster.hierarchy as sch"
   ]
  },
  {
   "cell_type": "code",
   "execution_count": 3,
   "id": "d8b2c4be",
   "metadata": {},
   "outputs": [
    {
     "name": "stdout",
     "output_type": "stream",
     "text": [
      "airline                   0\n",
      "avail_seat_km_per_week    0\n",
      "incidents_85_99           0\n",
      "fatal_accidents_85_99     0\n",
      "fatalities_85_99          0\n",
      "incidents_00_14           0\n",
      "fatal_accidents_00_14     0\n",
      "fatalities_00_14          0\n",
      "dtype: int64\n"
     ]
    },
    {
     "data": {
      "text/html": [
       "<div>\n",
       "<style scoped>\n",
       "    .dataframe tbody tr th:only-of-type {\n",
       "        vertical-align: middle;\n",
       "    }\n",
       "\n",
       "    .dataframe tbody tr th {\n",
       "        vertical-align: top;\n",
       "    }\n",
       "\n",
       "    .dataframe thead th {\n",
       "        text-align: right;\n",
       "    }\n",
       "</style>\n",
       "<table border=\"1\" class=\"dataframe\">\n",
       "  <thead>\n",
       "    <tr style=\"text-align: right;\">\n",
       "      <th></th>\n",
       "      <th>airline</th>\n",
       "      <th>avail_seat_km_per_week</th>\n",
       "      <th>incidents_85_99</th>\n",
       "      <th>fatal_accidents_85_99</th>\n",
       "      <th>fatalities_85_99</th>\n",
       "      <th>incidents_00_14</th>\n",
       "      <th>fatal_accidents_00_14</th>\n",
       "      <th>fatalities_00_14</th>\n",
       "    </tr>\n",
       "  </thead>\n",
       "  <tbody>\n",
       "    <tr>\n",
       "      <th>0</th>\n",
       "      <td>Aer Lingus</td>\n",
       "      <td>320906734</td>\n",
       "      <td>2</td>\n",
       "      <td>0</td>\n",
       "      <td>0</td>\n",
       "      <td>0</td>\n",
       "      <td>0</td>\n",
       "      <td>0</td>\n",
       "    </tr>\n",
       "    <tr>\n",
       "      <th>1</th>\n",
       "      <td>Aeroflot*</td>\n",
       "      <td>1197672318</td>\n",
       "      <td>76</td>\n",
       "      <td>14</td>\n",
       "      <td>128</td>\n",
       "      <td>6</td>\n",
       "      <td>1</td>\n",
       "      <td>88</td>\n",
       "    </tr>\n",
       "    <tr>\n",
       "      <th>2</th>\n",
       "      <td>Aerolineas Argentinas</td>\n",
       "      <td>385803648</td>\n",
       "      <td>6</td>\n",
       "      <td>0</td>\n",
       "      <td>0</td>\n",
       "      <td>1</td>\n",
       "      <td>0</td>\n",
       "      <td>0</td>\n",
       "    </tr>\n",
       "    <tr>\n",
       "      <th>3</th>\n",
       "      <td>Aeromexico*</td>\n",
       "      <td>596871813</td>\n",
       "      <td>3</td>\n",
       "      <td>1</td>\n",
       "      <td>64</td>\n",
       "      <td>5</td>\n",
       "      <td>0</td>\n",
       "      <td>0</td>\n",
       "    </tr>\n",
       "    <tr>\n",
       "      <th>4</th>\n",
       "      <td>Air Canada</td>\n",
       "      <td>1865253802</td>\n",
       "      <td>2</td>\n",
       "      <td>0</td>\n",
       "      <td>0</td>\n",
       "      <td>2</td>\n",
       "      <td>0</td>\n",
       "      <td>0</td>\n",
       "    </tr>\n",
       "  </tbody>\n",
       "</table>\n",
       "</div>"
      ],
      "text/plain": [
       "                 airline  avail_seat_km_per_week  incidents_85_99  \\\n",
       "0             Aer Lingus               320906734                2   \n",
       "1              Aeroflot*              1197672318               76   \n",
       "2  Aerolineas Argentinas               385803648                6   \n",
       "3            Aeromexico*               596871813                3   \n",
       "4             Air Canada              1865253802                2   \n",
       "\n",
       "   fatal_accidents_85_99  fatalities_85_99  incidents_00_14  \\\n",
       "0                      0                 0                0   \n",
       "1                     14               128                6   \n",
       "2                      0                 0                1   \n",
       "3                      1                64                5   \n",
       "4                      0                 0                2   \n",
       "\n",
       "   fatal_accidents_00_14  fatalities_00_14  \n",
       "0                      0                 0  \n",
       "1                      1                88  \n",
       "2                      0                 0  \n",
       "3                      0                 0  \n",
       "4                      0                 0  "
      ]
     },
     "execution_count": 3,
     "metadata": {},
     "output_type": "execute_result"
    }
   ],
   "source": [
    "#load airline safety dataset\n",
    "airsafe_df = pd.read_csv('airline-safety.csv')\n",
    "\n",
    "#check NA\n",
    "print(airsafe_df.isna().sum()) #no missing values\n",
    "\n",
    "#preview data\n",
    "airsafe_df.head()"
   ]
  },
  {
   "cell_type": "code",
   "execution_count": 4,
   "id": "0e6409fe",
   "metadata": {},
   "outputs": [
    {
     "name": "stdout",
     "output_type": "stream",
     "text": [
      "[[3.39393939e+00 8.78787879e-01 1.81818182e+01 2.87878788e+00\n",
      "  3.33333333e-01 2.14242424e+01]\n",
      " [1.36923077e+01 3.84615385e+00 2.26615385e+02 4.84615385e+00\n",
      "  8.46153846e-01 2.20000000e+01]\n",
      " [1.00000000e+01 2.50000000e+00 5.35000000e+01 7.00000000e+00\n",
      "  2.25000000e+00 3.93250000e+02]\n",
      " [1.20000000e+01 5.50000000e+00 4.22500000e+02 7.50000000e+00\n",
      "  1.00000000e+00 9.05000000e+01]]\n",
      "KMeans [0 1 0 0 0 2 3 0 0 0 0 2 0 1 0 0 3 0 0 3 1 0 1 0 1 0 0 1 3 2 0 3 0 0 2 1 0\n",
      " 0 0 0 1 0 1 0 0 1 0 0 0 1 0 3 1 1 0 0]\n"
     ]
    },
    {
     "data": {
      "image/png": "[encoded data removed]",
      "text/plain": [
       "<Figure size 720x720 with 1 Axes>"
      ]
     },
     "metadata": {
      "needs_background": "light"
     },
     "output_type": "display_data"
    }
   ],
   "source": [
    "#independent variables: omit col 0 and 1\n",
    "#will use 4 classes\n",
    "\n",
    "#isolate and scale attributes\n",
    "X = airsafe_df.drop(['airline', 'avail_seat_km_per_week'], axis = 1)\n",
    "#scale data\n",
    "scaler = StandardScaler()\n",
    "scaler.fit_transform(X)\n",
    "\n",
    "#K-Means\n",
    "kmeans = KMeans(n_clusters = 4)\n",
    "y_means = kmeans.fit_predict(X)\n",
    "\n",
    "centroids = kmeans.cluster_centers_\n",
    "#print values for each of the 4 centroids\n",
    "print(centroids)\n",
    "print('KMeans', y_means)\n",
    "\n",
    "#visualization\n",
    "plt.figure(figsize = (10,10))\n",
    "plt.title('Divisive Clustering Using K-Means')\n",
    "#visualizing # fatalities in 1985-1999 and # fatalities 2000-2014\n",
    "plt.scatter(X['fatalities_85_99'], X['fatalities_00_14'], c = y_means, cmap = 'rainbow')\n",
    "plt.scatter(centroids[:,0], centroids[:,2], c = 'black', s = 100)\n",
    "plt.show()\n"
   ]
  },
  {
   "cell_type": "code",
   "execution_count": 85,
   "id": "1d9da870",
   "metadata": {},
   "outputs": [
    {
     "name": "stdout",
     "output_type": "stream",
     "text": [
      "Agglomerative clustering [1 0 1 1 1 2 0 1 1 1 1 2 1 0 1 1 3 1 1 3 0 1 0 1 0 1 1 0 3 2 1 3 1 1 2 0 1\n",
      " 1 1 1 0 1 0 1 1 0 1 0 1 0 1 0 0 0 1 1]\n"
     ]
    },
    {
     "data": {
      "image/png": "[encoded data removed]",
      "text/plain": [
       "<Figure size 720x720 with 1 Axes>"
      ]
     },
     "metadata": {
      "needs_background": "light"
     },
     "output_type": "display_data"
    }
   ],
   "source": [
    "#agglomerative\n",
    "plt.figure(figsize = (10, 10))\n",
    "plt.title('Agglomerative clustering')\n",
    "#Ward\n",
    "Dendrogram = sch.dendrogram((sch.linkage(X, method = 'ward')))\n",
    "\n",
    "#specify 4 clusters\n",
    "ac = AgglomerativeClustering(n_clusters = 4)\n",
    "y_ac = ac.fit_predict(X)\n",
    "\n",
    "print('Agglomerative clustering', y_ac)"
   ]
  },
  {
   "cell_type": "code",
   "execution_count": null,
   "id": "96b9264c",
   "metadata": {},
   "outputs": [],
   "source": []
  }
 ],
 "metadata": {
  "hide_input": false,
  "kernelspec": {
   "display_name": "Python 3 (ipykernel)",
   "language": "python",
   "name": "python3"
  },
  "language_info": {
   "codemirror_mode": {
    "name": "ipython",
    "version": 3
   },
   "file_extension": ".py",
   "mimetype": "text/x-python",
   "name": "python",
   "nbconvert_exporter": "python",
   "pygments_lexer": "ipython3",
   "version": "3.9.7"
  }
 },
 "nbformat": 4,
 "nbformat_minor": 5
}
