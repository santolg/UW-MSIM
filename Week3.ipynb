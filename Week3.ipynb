{
 "cells": [
  {
   "cell_type": "code",
   "execution_count": 15,
   "id": "5d41b756",
   "metadata": {},
   "outputs": [],
   "source": [
    "#load libraries\n",
    "import pandas as pd\n",
    "import numpy as np\n",
    "import matplotlib.pyplot as plt\n",
    "from sklearn.model_selection import train_test_split\n",
    "from sklearn.linear_model import LogisticRegression\n",
    "from sklearn.nei"
   ]
  },
  {
   "cell_type": "code",
   "execution_count": 16,
   "id": "547e29e1",
   "metadata": {},
   "outputs": [],
   "source": [
    "#PROBLEM 1\n",
    "#load data\n",
    "rating_df = pd.read_csv('Problem 1—quality.csv')\n",
    "#drop 1st column\n",
    "rating_df = rating_df.iloc[: , 1:]\n",
    "\n",
    "#preview data\n",
    "rating_df.head();"
   ]
  },
  {
   "cell_type": "code",
   "execution_count": 17,
   "id": "47d9761c",
   "metadata": {},
   "outputs": [
    {
     "name": "stdout",
     "output_type": "stream",
     "text": [
      "num_words            0\n",
      "num_characters       0\n",
      "num_misspelled       0\n",
      "bin_end_qmark        0\n",
      "num_interrogative    0\n",
      "bin_start_small      0\n",
      "num_sentences        0\n",
      "num_punctuations     0\n",
      "label                0\n",
      "dtype: int64\n"
     ]
    }
   ],
   "source": [
    "# missing values\n",
    "print(rating_df.isna().sum())"
   ]
  },
  {
   "cell_type": "code",
   "execution_count": 18,
   "id": "60942de8",
   "metadata": {},
   "outputs": [],
   "source": [
    "#isolating independent features\n",
    "X = rating_df.drop(['label'], axis = 1)\n",
    "#isolating class label\n",
    "y = rating_df['label']\n",
    "\n",
    "# normalize feature variables\n",
    "from sklearn.preprocessing import StandardScaler\n",
    "X_features = X\n",
    "X = StandardScaler().fit_transform(X)\n",
    "\n",
    "#create train/test using 70% for training\n",
    "X_train, X_test, y_train, y_test = train_test_split (X, y, test_size = 0.40, random_state = 1)"
   ]
  },
  {
   "cell_type": "code",
   "execution_count": 19,
   "id": "a2feeeeb",
   "metadata": {},
   "outputs": [],
   "source": [
    "#logistic regression model\n",
    "logmodel= LogisticRegression()\n",
    "logmodel.fit(X_train, y_train)\n",
    "\n",
    "predictions = logmodel.predict(X_test)\n",
    "\n",
    "from sklearn.metrics import classification_report, accuracy_score, roc_curve, auc, roc_auc_score\n",
    "from sklearn.metrics import accuracy_score, confusion_matrix"
   ]
  },
  {
   "cell_type": "code",
   "execution_count": 20,
   "id": "58dd6926",
   "metadata": {},
   "outputs": [
    {
     "name": "stdout",
     "output_type": "stream",
     "text": [
      "LR Classification report on test data\n",
      "              precision    recall  f1-score   support\n",
      "\n",
      "           B       0.43      0.75      0.55         4\n",
      "           G       0.80      0.50      0.62         8\n",
      "\n",
      "    accuracy                           0.58        12\n",
      "   macro avg       0.61      0.62      0.58        12\n",
      "weighted avg       0.68      0.58      0.59        12\n",
      "\n",
      "LR Accuracy on test data\n",
      "0.5833333333333334\n",
      "LR Confusion matrix of test data\n",
      "[[3 1]\n",
      " [4 4]]\n"
     ]
    }
   ],
   "source": [
    "#print results\n",
    "print('LR Classification report on test data')\n",
    "print(classification_report(y_test, predictions))\n",
    "print('LR Accuracy on test data')\n",
    "print(accuracy_score(y_test, predictions))\n",
    "\n",
    "print('LR Confusion matrix of test data')\n",
    "print(confusion_matrix(y_test, predictions))"
   ]
  },
  {
   "cell_type": "code",
   "execution_count": 21,
   "id": "1538e1e8",
   "metadata": {},
   "outputs": [],
   "source": [
    "#logistic regression using num_mispelled and num_interrogative as independent features\n",
    "#isolating independent features\n",
    "X1 = rating_df[['num_misspelled', 'num_interrogative']]\n",
    "#isolating class label\n",
    "y1 = rating_df['label']\n",
    "\n",
    "# normalize feature variables\n",
    "from sklearn.preprocessing import StandardScaler\n",
    "X1_features = X1\n",
    "X1 = StandardScaler().fit_transform(X1)\n",
    "\n",
    "#create train/test using 70% for training\n",
    "X1_train, X1_test, y1_train, y1_test = train_test_split (X1, y1, test_size = 0.40, random_state = 1)"
   ]
  },
  {
   "cell_type": "code",
   "execution_count": 22,
   "id": "442f0b0f",
   "metadata": {},
   "outputs": [],
   "source": [
    "#logistic regression model\n",
    "logmodel= LogisticRegression()\n",
    "logmodel.fit(X1_train, y1_train)\n",
    "\n",
    "predictions1 = logmodel.predict(X1_test)"
   ]
  },
  {
   "cell_type": "code",
   "execution_count": 23,
   "id": "dc6702e8",
   "metadata": {},
   "outputs": [
    {
     "name": "stdout",
     "output_type": "stream",
     "text": [
      "LR Classification report on test data\n",
      "              precision    recall  f1-score   support\n",
      "\n",
      "           B       0.27      0.75      0.40         4\n",
      "           G       0.00      0.00      0.00         8\n",
      "\n",
      "    accuracy                           0.25        12\n",
      "   macro avg       0.14      0.38      0.20        12\n",
      "weighted avg       0.09      0.25      0.13        12\n",
      "\n",
      "LR Accuracy on test data\n",
      "0.25\n",
      "LR Confusion matrix of test data\n",
      "[[3 1]\n",
      " [8 0]]\n"
     ]
    }
   ],
   "source": [
    "#print results\n",
    "print('LR Classification report on test data')\n",
    "print(classification_report(y1_test, predictions1, zero_division= 1))\n",
    "print('LR Accuracy on test data')\n",
    "print(accuracy_score(y1_test, predictions1))\n",
    "\n",
    "print('LR Confusion matrix of test data')\n",
    "print(confusion_matrix(y1_test, predictions1))"
   ]
  },
  {
   "cell_type": "code",
   "execution_count": 24,
   "id": "a2712e20",
   "metadata": {},
   "outputs": [],
   "source": [
    "#logistic regression using num_words and num_punctuations as independent features\n",
    "#isolating independent features\n",
    "X2 = rating_df[['num_words', 'num_punctuations']]\n",
    "#isolating class label\n",
    "y2 = rating_df['label']\n",
    "\n",
    "# normalize feature variables\n",
    "from sklearn.preprocessing import StandardScaler\n",
    "X2_features = X2\n",
    "X2 = StandardScaler().fit_transform(X2)\n",
    "\n",
    "#create train/test using 70% for training\n",
    "X2_train, X2_test, y2_train, y2_test = train_test_split (X2, y2, test_size = 0.40, random_state = 1)"
   ]
  },
  {
   "cell_type": "code",
   "execution_count": 25,
   "id": "19266921",
   "metadata": {},
   "outputs": [],
   "source": [
    "#logistic regression model\n",
    "logmodel= LogisticRegression()\n",
    "logmodel.fit(X2_train, y2_train)\n",
    "\n",
    "predictions2 = logmodel.predict(X2_test)"
   ]
  },
  {
   "cell_type": "code",
   "execution_count": 26,
   "id": "8733c140",
   "metadata": {},
   "outputs": [
    {
     "name": "stdout",
     "output_type": "stream",
     "text": [
      "LR Classification report on test data\n",
      "              precision    recall  f1-score   support\n",
      "\n",
      "           B       0.40      1.00      0.57         4\n",
      "           G       1.00      0.25      0.40         8\n",
      "\n",
      "    accuracy                           0.50        12\n",
      "   macro avg       0.70      0.62      0.49        12\n",
      "weighted avg       0.80      0.50      0.46        12\n",
      "\n",
      "LR Accuracy on test data\n",
      "0.5\n",
      "LR Confusion matrix of test data\n",
      "[[4 0]\n",
      " [6 2]]\n"
     ]
    }
   ],
   "source": [
    "#print results\n",
    "print('LR Classification report on test data')\n",
    "print(classification_report(y2_test, predictions2))\n",
    "print('LR Accuracy on test data')\n",
    "print(accuracy_score(y2_test, predictions2))\n",
    "\n",
    "print('LR Confusion matrix of test data')\n",
    "print(confusion_matrix(y2_test, predictions2))"
   ]
  },
  {
   "cell_type": "code",
   "execution_count": 27,
   "id": "50690557",
   "metadata": {},
   "outputs": [
    {
     "data": {
      "text/html": [
       "<div>\n",
       "<style scoped>\n",
       "    .dataframe tbody tr th:only-of-type {\n",
       "        vertical-align: middle;\n",
       "    }\n",
       "\n",
       "    .dataframe tbody tr th {\n",
       "        vertical-align: top;\n",
       "    }\n",
       "\n",
       "    .dataframe thead th {\n",
       "        text-align: right;\n",
       "    }\n",
       "</style>\n",
       "<table border=\"1\" class=\"dataframe\">\n",
       "  <thead>\n",
       "    <tr style=\"text-align: right;\">\n",
       "      <th></th>\n",
       "      <th>fixed_acidity</th>\n",
       "      <th>volatile_acidity</th>\n",
       "      <th>citric_acid</th>\n",
       "      <th>residual_sugar</th>\n",
       "      <th>chlorides</th>\n",
       "      <th>free_sulfur_dioxide</th>\n",
       "      <th>total_sulfur_dioxide</th>\n",
       "      <th>density</th>\n",
       "      <th>pH</th>\n",
       "      <th>sulphates</th>\n",
       "      <th>alcohol</th>\n",
       "      <th>quality</th>\n",
       "      <th>color</th>\n",
       "      <th>is_red</th>\n",
       "      <th>high_quality</th>\n",
       "    </tr>\n",
       "  </thead>\n",
       "  <tbody>\n",
       "    <tr>\n",
       "      <th>0</th>\n",
       "      <td>7.4</td>\n",
       "      <td>0.70</td>\n",
       "      <td>0.00</td>\n",
       "      <td>1.9</td>\n",
       "      <td>0.076</td>\n",
       "      <td>11.0</td>\n",
       "      <td>34.0</td>\n",
       "      <td>0.9978</td>\n",
       "      <td>3.51</td>\n",
       "      <td>0.56</td>\n",
       "      <td>9.4</td>\n",
       "      <td>5</td>\n",
       "      <td>red</td>\n",
       "      <td>1.0</td>\n",
       "      <td>0.0</td>\n",
       "    </tr>\n",
       "    <tr>\n",
       "      <th>1</th>\n",
       "      <td>7.8</td>\n",
       "      <td>0.88</td>\n",
       "      <td>0.00</td>\n",
       "      <td>2.6</td>\n",
       "      <td>0.098</td>\n",
       "      <td>25.0</td>\n",
       "      <td>67.0</td>\n",
       "      <td>0.9968</td>\n",
       "      <td>3.20</td>\n",
       "      <td>0.68</td>\n",
       "      <td>9.8</td>\n",
       "      <td>5</td>\n",
       "      <td>red</td>\n",
       "      <td>1.0</td>\n",
       "      <td>0.0</td>\n",
       "    </tr>\n",
       "    <tr>\n",
       "      <th>2</th>\n",
       "      <td>7.8</td>\n",
       "      <td>0.76</td>\n",
       "      <td>0.04</td>\n",
       "      <td>2.3</td>\n",
       "      <td>0.092</td>\n",
       "      <td>15.0</td>\n",
       "      <td>54.0</td>\n",
       "      <td>0.9970</td>\n",
       "      <td>3.26</td>\n",
       "      <td>0.65</td>\n",
       "      <td>9.8</td>\n",
       "      <td>5</td>\n",
       "      <td>red</td>\n",
       "      <td>1.0</td>\n",
       "      <td>0.0</td>\n",
       "    </tr>\n",
       "    <tr>\n",
       "      <th>3</th>\n",
       "      <td>11.2</td>\n",
       "      <td>0.28</td>\n",
       "      <td>0.56</td>\n",
       "      <td>1.9</td>\n",
       "      <td>0.075</td>\n",
       "      <td>17.0</td>\n",
       "      <td>60.0</td>\n",
       "      <td>0.9980</td>\n",
       "      <td>3.16</td>\n",
       "      <td>0.58</td>\n",
       "      <td>9.8</td>\n",
       "      <td>6</td>\n",
       "      <td>red</td>\n",
       "      <td>1.0</td>\n",
       "      <td>0.0</td>\n",
       "    </tr>\n",
       "    <tr>\n",
       "      <th>4</th>\n",
       "      <td>7.4</td>\n",
       "      <td>0.70</td>\n",
       "      <td>0.00</td>\n",
       "      <td>1.9</td>\n",
       "      <td>0.076</td>\n",
       "      <td>11.0</td>\n",
       "      <td>34.0</td>\n",
       "      <td>0.9978</td>\n",
       "      <td>3.51</td>\n",
       "      <td>0.56</td>\n",
       "      <td>9.4</td>\n",
       "      <td>5</td>\n",
       "      <td>red</td>\n",
       "      <td>1.0</td>\n",
       "      <td>0.0</td>\n",
       "    </tr>\n",
       "  </tbody>\n",
       "</table>\n",
       "</div>"
      ],
      "text/plain": [
       "   fixed_acidity  volatile_acidity  citric_acid  residual_sugar  chlorides  \\\n",
       "0            7.4              0.70         0.00             1.9      0.076   \n",
       "1            7.8              0.88         0.00             2.6      0.098   \n",
       "2            7.8              0.76         0.04             2.3      0.092   \n",
       "3           11.2              0.28         0.56             1.9      0.075   \n",
       "4            7.4              0.70         0.00             1.9      0.076   \n",
       "\n",
       "   free_sulfur_dioxide  total_sulfur_dioxide  density    pH  sulphates  \\\n",
       "0                 11.0                  34.0   0.9978  3.51       0.56   \n",
       "1                 25.0                  67.0   0.9968  3.20       0.68   \n",
       "2                 15.0                  54.0   0.9970  3.26       0.65   \n",
       "3                 17.0                  60.0   0.9980  3.16       0.58   \n",
       "4                 11.0                  34.0   0.9978  3.51       0.56   \n",
       "\n",
       "   alcohol  quality color  is_red  high_quality  \n",
       "0      9.4        5   red     1.0           0.0  \n",
       "1      9.8        5   red     1.0           0.0  \n",
       "2      9.8        5   red     1.0           0.0  \n",
       "3      9.8        6   red     1.0           0.0  \n",
       "4      9.4        5   red     1.0           0.0  "
      ]
     },
     "execution_count": 27,
     "metadata": {},
     "output_type": "execute_result"
    }
   ],
   "source": [
    "#PROBLEM 2\n",
    "#load data\n",
    "wine_df = pd.read_csv('Problem 2—wine dataset.csv')\n",
    "\n",
    "#preview data\n",
    "wine_df.head()"
   ]
  },
  {
   "cell_type": "code",
   "execution_count": 28,
   "id": "5052105a",
   "metadata": {},
   "outputs": [
    {
     "name": "stdout",
     "output_type": "stream",
     "text": [
      "fixed_acidity           0\n",
      "volatile_acidity        0\n",
      "citric_acid             0\n",
      "residual_sugar          0\n",
      "chlorides               0\n",
      "free_sulfur_dioxide     0\n",
      "total_sulfur_dioxide    0\n",
      "density                 0\n",
      "pH                      0\n",
      "sulphates               0\n",
      "alcohol                 0\n",
      "quality                 0\n",
      "color                   0\n",
      "is_red                  0\n",
      "high_quality            0\n",
      "dtype: int64\n"
     ]
    }
   ],
   "source": [
    "# missing values\n",
    "print(wine_df.isna().sum())"
   ]
  },
  {
   "cell_type": "code",
   "execution_count": 29,
   "id": "3befe554",
   "metadata": {},
   "outputs": [
    {
     "name": "stdout",
     "output_type": "stream",
     "text": [
      "Warning: Maximum number of iterations has been exceeded.\n",
      "         Current function value: 0.000027\n",
      "         Iterations: 35\n",
      "                           Logit Regression Results                           \n",
      "==============================================================================\n",
      "Dep. Variable:           high_quality   No. Observations:                 6497\n",
      "Model:                          Logit   Df Residuals:                     6485\n",
      "Method:                           MLE   Df Model:                           11\n",
      "Date:                Sat, 22 Jan 2022   Pseudo R-squ.:                  0.9999\n",
      "Time:                        17:01:11   Log-Likelihood:               -0.17665\n",
      "converged:                      False   LL-Null:                       -3219.8\n",
      "Covariance Type:            nonrobust   LLR p-value:                     0.000\n",
      "=======================================================================================\n",
      "                          coef    std err          z      P>|z|      [0.025      0.975]\n",
      "---------------------------------------------------------------------------------------\n",
      "fixed_acidity           1.4214      2.344      0.606      0.544      -3.173       6.016\n",
      "volatile_acidity       -5.4875     43.030     -0.128      0.899     -89.825      78.850\n",
      "citric_acid            -0.4000     26.848     -0.015      0.988     -53.022      52.222\n",
      "residual_sugar          0.0478      1.076      0.044      0.965      -2.061       2.157\n",
      "chlorides             -23.7857    226.446     -0.105      0.916    -467.612     420.041\n",
      "free_sulfur_dioxide     0.0524      0.212      0.248      0.804      -0.362       0.467\n",
      "density              -241.8300    268.213     -0.902      0.367    -767.518     283.858\n",
      "pH                     11.9428     27.538      0.434      0.665     -42.031      65.917\n",
      "sulphates              10.8261     17.938      0.604      0.546     -24.332      45.984\n",
      "alcohol                -0.5637      4.942     -0.114      0.909     -10.251       9.123\n",
      "quality                29.8661     31.813      0.939      0.348     -32.486      92.218\n",
      "is_red                 -0.6638      8.644     -0.077      0.939     -17.606      16.279\n",
      "=======================================================================================\n",
      "\n",
      "Possibly complete quasi-separation: A fraction 0.98 of observations can be\n",
      "perfectly predicted. This might indicate that there is complete\n",
      "quasi-separation. In this case some parameters will not be identified.\n"
     ]
    },
    {
     "name": "stderr",
     "output_type": "stream",
     "text": [
      "/Users/laurensantos/opt/anaconda3/lib/python3.9/site-packages/statsmodels/base/model.py:566: ConvergenceWarning: Maximum Likelihood optimization failed to converge. Check mle_retvals\n",
      "  warnings.warn(\"Maximum Likelihood optimization failed to \"\n"
     ]
    }
   ],
   "source": [
    "#trial-and-error; good subset of features\n",
    "import statsmodels.api as sm\n",
    "\n",
    "cols = ['fixed_acidity', 'volatile_acidity', 'citric_acid', 'residual_sugar', 'chlorides', 'free_sulfur_dioxide', 'density', 'pH', 'sulphates', 'alcohol', 'quality', 'is_red']\n",
    "\n",
    "X1 = wine_df[cols]\n",
    "y1 = wine_df['high_quality']\n",
    "\n",
    "logit_model=sm.Logit(y1,X1)\n",
    "result=logit_model.fit()\n",
    "print(result.summary())\n",
    "\n",
    "#variables with lowest p values (not including quality): fixed_acidity, density, sulphates"
   ]
  },
  {
   "cell_type": "code",
   "execution_count": 30,
   "id": "c5072c4a",
   "metadata": {},
   "outputs": [],
   "source": [
    "#load library\n",
    "from sklearn.neighbors import KNeighborsClassifier\n",
    "\n",
    "#isolating independent features, test 1\n",
    "X = wine_df[['fixed_acidity', 'density', 'sulphates']]\n",
    "#isolating class label\n",
    "y = wine_df['high_quality']\n",
    "\n",
    "\n",
    "# normalize feature variables\n",
    "from sklearn.preprocessing import StandardScaler\n",
    "X_features = X\n",
    "X = StandardScaler().fit_transform(X)\n",
    "\n",
    "\n",
    "#create train/test using 70% for training\n",
    "X_train, X_test, y_train, y_test = train_test_split (X, y, test_size = 0.30, random_state = 2)\n",
    "\n",
    "#create KNN Classifier model\n",
    "knn = Kn\n",
    "\n"
   ]
  },
  {
   "cell_type": "code",
   "execution_count": 31,
   "id": "e7a2cf17",
   "metadata": {},
   "outputs": [
    {
     "name": "stdout",
     "output_type": "stream",
     "text": [
      "For k = 10, accuracy is 0.838.\n",
      "Best k = 2.\n"
     ]
    }
   ],
   "source": [
    "\n",
    "#KNN\n",
    "from sklearn.neighbors import KNeighborsClassifier\n",
    "#best accuracy parameter\n",
    "best_accuracy = 0\n",
    "#testing for k values 2 through 10\n",
    "for i in range(2, 11):\n",
    "    knn = KNeighborsClassifier(n_neighbors=i)\n",
    "    knn.fit(X_train,y_train)\n",
    "    train_score = knn.score(X_train,y_train)\n",
    "#comparing accuracy of k scores\n",
    "    if train_score > best_accuracy:\n",
    "        best_accuracy = train_score\n",
    "        best_k = i\n",
    "\n",
    "print(f'For k = {i}, accuracy is {round(train_score,3)}.')\n",
    "print(f'Best k = {best_k}.')"
   ]
  },
  {
   "cell_type": "code",
   "execution_count": 32,
   "id": "6075fdbf",
   "metadata": {},
   "outputs": [
    {
     "data": {
      "text/plain": [
       "Text(0, 0.5, 'Accuracy')"
      ]
     },
     "execution_count": 32,
     "metadata": {},
     "output_type": "execute_result"
    },
    {
     "data": {
      "image/png": "[encoded data removed]",
      "text/plain": [
       "<Figure size 432x288 with 1 Axes>"
      ]
     },
     "metadata": {
      "needs_background": "light"
     },
     "output_type": "display_data"
    }
   ],
   "source": [
    "#plot k accuracies\n",
    "y = [0.908, 0.896, 0.867, 0.861, 0.854, 0.846, 0.841, 0.838, 0.838]\n",
    "x = [2, 3, 4, 5, 6, 7, 8, 9, 10]\n",
    "plt.plot(x, y)\n",
    "\n",
    "plt.xlabel('k-value')\n",
    "plt.ylabel('Accuracy')"
   ]
  }
 ],
 "metadata": {
  "hide_input": false,
  "kernelspec": {
   "display_name": "Python 3 (ipykernel)",
   "language": "python",
   "name": "python3"
  },
  "language_info": {
   "codemirror_mode": {
    "name": "ipython",
    "version": 3
   },
   "file_extension": ".py",
   "mimetype": "text/x-python",
   "name": "python",
   "nbconvert_exporter": "python",
   "pygments_lexer": "ipython3",
   "version": "3.9.7"
  }
 },
 "nbformat": 4,
 "nbformat_minor": 5
}
