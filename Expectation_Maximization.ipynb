{
 "cells": [
  {
   "cell_type": "code",
   "execution_count": 1,
   "id": "f4439854",
   "metadata": {},
   "outputs": [],
   "source": [
    "#Load libraries\n",
    "import numpy as np\n",
    "import pandas as pd\n",
    "from sklearn.mixture import GaussianMixture"
   ]
  },
  {
   "cell_type": "code",
   "execution_count": 2,
   "id": "70435320",
   "metadata": {},
   "outputs": [
    {
     "data": {
      "text/html": [
       "<div>\n",
       "<style scoped>\n",
       "    .dataframe tbody tr th:only-of-type {\n",
       "        vertical-align: middle;\n",
       "    }\n",
       "\n",
       "    .dataframe tbody tr th {\n",
       "        vertical-align: top;\n",
       "    }\n",
       "\n",
       "    .dataframe thead th {\n",
       "        text-align: right;\n",
       "    }\n",
       "</style>\n",
       "<table border=\"1\" class=\"dataframe\">\n",
       "  <thead>\n",
       "    <tr style=\"text-align: right;\">\n",
       "      <th></th>\n",
       "      <th>Contry</th>\n",
       "      <th>sr</th>\n",
       "      <th>pop15</th>\n",
       "      <th>pop75</th>\n",
       "      <th>dpi</th>\n",
       "      <th>ddpi</th>\n",
       "    </tr>\n",
       "  </thead>\n",
       "  <tbody>\n",
       "    <tr>\n",
       "      <th>0</th>\n",
       "      <td>Australia</td>\n",
       "      <td>11.43</td>\n",
       "      <td>29.35</td>\n",
       "      <td>2.87</td>\n",
       "      <td>2329.68</td>\n",
       "      <td>2.87</td>\n",
       "    </tr>\n",
       "    <tr>\n",
       "      <th>1</th>\n",
       "      <td>Austria</td>\n",
       "      <td>12.07</td>\n",
       "      <td>23.32</td>\n",
       "      <td>4.41</td>\n",
       "      <td>1507.99</td>\n",
       "      <td>3.93</td>\n",
       "    </tr>\n",
       "    <tr>\n",
       "      <th>2</th>\n",
       "      <td>Belgium</td>\n",
       "      <td>13.17</td>\n",
       "      <td>23.80</td>\n",
       "      <td>4.43</td>\n",
       "      <td>2108.47</td>\n",
       "      <td>3.82</td>\n",
       "    </tr>\n",
       "    <tr>\n",
       "      <th>3</th>\n",
       "      <td>Bolivia</td>\n",
       "      <td>5.75</td>\n",
       "      <td>41.89</td>\n",
       "      <td>1.67</td>\n",
       "      <td>189.13</td>\n",
       "      <td>0.22</td>\n",
       "    </tr>\n",
       "    <tr>\n",
       "      <th>4</th>\n",
       "      <td>Brazil</td>\n",
       "      <td>12.88</td>\n",
       "      <td>42.19</td>\n",
       "      <td>0.83</td>\n",
       "      <td>728.47</td>\n",
       "      <td>4.56</td>\n",
       "    </tr>\n",
       "  </tbody>\n",
       "</table>\n",
       "</div>"
      ],
      "text/plain": [
       "      Contry     sr  pop15  pop75      dpi  ddpi\n",
       "0  Australia  11.43  29.35   2.87  2329.68  2.87\n",
       "1    Austria  12.07  23.32   4.41  1507.99  3.93\n",
       "2    Belgium  13.17  23.80   4.43  2108.47  3.82\n",
       "3    Bolivia   5.75  41.89   1.67   189.13  0.22\n",
       "4     Brazil  12.88  42.19   0.83   728.47  4.56"
      ]
     },
     "execution_count": 2,
     "metadata": {},
     "output_type": "execute_result"
    }
   ],
   "source": [
    "#load data\n",
    "savings_df = pd.read_csv('Assignment 7 data-lifecyclesaving.csv')\n",
    "#preview\n",
    "savings_df.head()"
   ]
  },
  {
   "cell_type": "code",
   "execution_count": 4,
   "id": "7d40ade2",
   "metadata": {},
   "outputs": [
    {
     "name": "stdout",
     "output_type": "stream",
     "text": [
      "Contry    0\n",
      "sr        0\n",
      "pop15     0\n",
      "pop75     0\n",
      "dpi       0\n",
      "ddpi      0\n",
      "dtype: int64\n"
     ]
    }
   ],
   "source": [
    "# missing values? none\n",
    "print(savings_df.isna().sum())"
   ]
  },
  {
   "cell_type": "code",
   "execution_count": 39,
   "id": "cc6cfff8",
   "metadata": {},
   "outputs": [],
   "source": [
    "countries = savings_df.drop(['Contry'], axis = 1)\n",
    "\n",
    "# normalize attributes\n",
    "from sklearn.preprocessing import StandardScaler\n",
    "countries_features = countries\n",
    "countries = StandardScaler().fit_transform(countries)"
   ]
  },
  {
   "cell_type": "code",
   "execution_count": 40,
   "id": "bc482d95",
   "metadata": {},
   "outputs": [
    {
     "name": "stdout",
     "output_type": "stream",
     "text": [
      "98 epoch 2 clusters\n",
      "[0 1 1 0 0 0 0 0 0 0 0 0 0 1 0 1 0 0 0 0 1 1 0 0 0 1 0 0 0 0 0 0 0 0 1 1 1\n",
      " 1 0 0 0 0 1 0 0 0 1 1 1 0]\n",
      "560.4909027053\n",
      "638.8838459278538\n",
      "98 epoch 3 clusters\n",
      "[1 1 1 2 2 1 2 2 2 2 1 2 1 1 1 0 2 2 1 0 1 1 1 2 1 0 1 1 1 2 2 2 2 2 0 0 0\n",
      " 0 1 1 2 2 1 1 2 2 0 0 0 2]\n",
      "475.1556233465041\n",
      "593.7010496830492\n",
      "98 epoch 4 clusters\n",
      "[2 3 3 3 1 2 3 1 3 1 3 3 1 3 1 0 3 1 1 0 3 2 1 0 1 0 3 2 3 3 3 3 1 1 0 0 0\n",
      " 0 1 1 3 3 3 2 2 1 0 0 0 0]\n",
      "533.4364376454076\n",
      "692.1343470959437\n",
      "98 epoch 5 clusters\n",
      "[1 4 4 2 4 1 2 3 2 2 1 2 4 4 1 3 3 3 2 2 4 1 4 3 1 3 1 4 4 2 2 2 2 2 0 3 1\n",
      " 3 1 1 2 2 4 1 4 2 0 3 0 3]\n",
      "442.863117899036\n",
      "641.7135104635631\n",
      "98 epoch 6 clusters\n",
      "[1 1 1 0 2 2 0 4 0 0 1 0 2 1 1 5 4 4 2 4 1 5 2 4 1 3 1 5 1 0 0 4 0 0 3 4 3\n",
      " 5 2 1 4 0 1 2 5 2 3 4 3 4]\n",
      "421.9844906522617\n",
      "660.9873663307799\n",
      "98 epoch 7 clusters\n",
      "[1 3 5 4 2 1 5 4 4 4 5 4 3 5 2 0 4 4 1 4 0 1 6 0 3 6 5 6 2 4 4 4 4 4 0 6 6\n",
      " 0 1 5 4 4 3 1 2 4 0 0 0 4]\n",
      "299.54100800590294\n",
      "578.6963667984123\n",
      "98 epoch 8 clusters\n",
      "[2 6 6 1 5 2 3 5 5 5 4 5 7 6 7 3 4 1 4 1 6 6 1 0 7 3 2 7 6 5 5 3 5 5 0 1 2\n",
      " 3 2 4 5 5 6 2 5 1 0 2 0 0]\n",
      "265.41033780159955\n",
      "584.7181797080999\n",
      "98 epoch 9 clusters\n",
      "[3 6 6 8 0 3 4 0 8 4 6 8 6 6 6 4 8 0 0 2 6 5 8 4 3 1 3 7 2 8 4 4 0 0 1 2 1\n",
      " 4 3 6 4 8 2 3 7 0 1 2 1 4]\n",
      "328.1157809769893\n",
      "687.5761059974808\n"
     ]
    }
   ],
   "source": [
    "for n in range(2, 10):\n",
    "        for i in range(98, 99):\n",
    "            \n",
    "            model = GaussianMixture(n_components = n, init_params = 'random', max_iter = 100)\n",
    "            model.fit(countries)\n",
    "            \n",
    "            yhat = model.predict(countries)\n",
    "            print(i, \"epoch\", n, \"clusters\")\n",
    "            \n",
    "            print(yhat)\n",
    "            \n",
    "    #AIC\n",
    "            print(model.aic(countries))\n",
    "    \n",
    "    #BIC\n",
    "            print(model.bic(countries))"
   ]
  }
 ],
 "metadata": {
  "hide_input": false,
  "kernelspec": {
   "display_name": "Python 3 (ipykernel)",
   "language": "python",
   "name": "python3"
  },
  "language_info": {
   "codemirror_mode": {
    "name": "ipython",
    "version": 3
   },
   "file_extension": ".py",
   "mimetype": "text/x-python",
   "name": "python",
   "nbconvert_exporter": "python",
   "pygments_lexer": "ipython3",
   "version": "3.9.7"
  }
 },
 "nbformat": 4,
 "nbformat_minor": 5
}
