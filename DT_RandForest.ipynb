{
 "cells": [
  {
   "cell_type": "code",
   "execution_count": 2,
   "id": "9c8cb584",
   "metadata": {},
   "outputs": [],
   "source": [
    "#load libraries\n",
    "import pandas as pd\n",
    "from sklearn.model_selection import train_test_split\n",
    "from sklearn.tree import DecisionTreeClassifier\n",
    "from sklearn.metrics import accuracy_score, confusion_matrix\n",
    "from sklearn import tree\n",
    "from sklearn.ensemble import RandomForestClassifier\n",
    "import graphviz"
   ]
  },
  {
   "cell_type": "code",
   "execution_count": 3,
   "id": "6b148c2d",
   "metadata": {},
   "outputs": [
    {
     "data": {
      "text/html": [
       "<div>\n",
       "<style scoped>\n",
       "    .dataframe tbody tr th:only-of-type {\n",
       "        vertical-align: middle;\n",
       "    }\n",
       "\n",
       "    .dataframe tbody tr th {\n",
       "        vertical-align: top;\n",
       "    }\n",
       "\n",
       "    .dataframe thead th {\n",
       "        text-align: right;\n",
       "    }\n",
       "</style>\n",
       "<table border=\"1\" class=\"dataframe\">\n",
       "  <thead>\n",
       "    <tr style=\"text-align: right;\">\n",
       "      <th></th>\n",
       "      <th>name</th>\n",
       "      <th>state</th>\n",
       "      <th>brthYr</th>\n",
       "      <th>post1906</th>\n",
       "      <th>region</th>\n",
       "      <th>handPost</th>\n",
       "      <th>thumbSty</th>\n",
       "    </tr>\n",
       "  </thead>\n",
       "  <tbody>\n",
       "    <tr>\n",
       "      <th>0</th>\n",
       "      <td>Henry Thomas</td>\n",
       "      <td>TX</td>\n",
       "      <td>1874</td>\n",
       "      <td>0</td>\n",
       "      <td>3</td>\n",
       "      <td>1</td>\n",
       "      <td>3</td>\n",
       "    </tr>\n",
       "    <tr>\n",
       "      <th>1</th>\n",
       "      <td>Frank Stokes</td>\n",
       "      <td>TN</td>\n",
       "      <td>1887</td>\n",
       "      <td>0</td>\n",
       "      <td>2</td>\n",
       "      <td>1</td>\n",
       "      <td>3</td>\n",
       "    </tr>\n",
       "    <tr>\n",
       "      <th>2</th>\n",
       "      <td>Sam Collins</td>\n",
       "      <td>MS</td>\n",
       "      <td>1887</td>\n",
       "      <td>0</td>\n",
       "      <td>2</td>\n",
       "      <td>1</td>\n",
       "      <td>2</td>\n",
       "    </tr>\n",
       "    <tr>\n",
       "      <th>3</th>\n",
       "      <td>Peg Leg Howell</td>\n",
       "      <td>GA</td>\n",
       "      <td>1888</td>\n",
       "      <td>0</td>\n",
       "      <td>1</td>\n",
       "      <td>2</td>\n",
       "      <td>2</td>\n",
       "    </tr>\n",
       "    <tr>\n",
       "      <th>4</th>\n",
       "      <td>Huddie Ledbetter</td>\n",
       "      <td>TX</td>\n",
       "      <td>1888</td>\n",
       "      <td>0</td>\n",
       "      <td>3</td>\n",
       "      <td>2</td>\n",
       "      <td>3</td>\n",
       "    </tr>\n",
       "  </tbody>\n",
       "</table>\n",
       "</div>"
      ],
      "text/plain": [
       "               name state  brthYr  post1906  region  handPost  thumbSty\n",
       "0      Henry Thomas    TX    1874         0       3         1         3\n",
       "1      Frank Stokes    TN    1887         0       2         1         3\n",
       "2       Sam Collins    MS    1887         0       2         1         2\n",
       "3    Peg Leg Howell    GA    1888         0       1         2         2\n",
       "4  Huddie Ledbetter    TX    1888         0       3         2         3"
      ]
     },
     "execution_count": 3,
     "metadata": {},
     "output_type": "execute_result"
    }
   ],
   "source": [
    "#load data\n",
    "blues_df = pd.read_csv('Assignment 4-blues_hand.csv')\n",
    "\n",
    "blues_df.head()"
   ]
  },
  {
   "cell_type": "code",
   "execution_count": 4,
   "id": "724725f2",
   "metadata": {},
   "outputs": [
    {
     "name": "stdout",
     "output_type": "stream",
     "text": [
      "DT ACCURACY: 0.6559139784946236\n",
      "[[20 22]\n",
      " [10 41]]\n",
      "|--- feature_1 <= 2.50\n",
      "|   |--- feature_1 <= 1.50\n",
      "|   |   |--- feature_0 <= 1.50\n",
      "|   |   |   |--- class: 1\n",
      "|   |   |--- feature_0 >  1.50\n",
      "|   |   |   |--- feature_0 <= 2.50\n",
      "|   |   |   |   |--- class: 0\n",
      "|   |   |   |--- feature_0 >  2.50\n",
      "|   |   |   |   |--- class: 1\n",
      "|   |--- feature_1 >  1.50\n",
      "|   |   |--- feature_0 <= 1.50\n",
      "|   |   |   |--- class: 1\n",
      "|   |   |--- feature_0 >  1.50\n",
      "|   |   |   |--- feature_0 <= 2.50\n",
      "|   |   |   |   |--- class: 1\n",
      "|   |   |   |--- feature_0 >  2.50\n",
      "|   |   |   |   |--- class: 1\n",
      "|--- feature_1 >  2.50\n",
      "|   |--- feature_0 <= 1.50\n",
      "|   |   |--- class: 0\n",
      "|   |--- feature_0 >  1.50\n",
      "|   |   |--- feature_0 <= 2.50\n",
      "|   |   |   |--- class: 0\n",
      "|   |   |--- feature_0 >  2.50\n",
      "|   |   |   |--- class: 1\n",
      "\n"
     ]
    }
   ],
   "source": [
    "#DECISION TREE- focusing on hand postures and thumb styles as independent variables and birth year as dependent variable\n",
    "#define X and y variables\n",
    "X = blues_df[['handPost','thumbSty']]\n",
    "y = blues_df['post1906']\n",
    "\n",
    "dtree = DecisionTreeClassifier()\n",
    "dtree.fit(X, y)\n",
    "\n",
    "predictions = dtree.predict(X)\n",
    "\n",
    "print(\"DT ACCURACY:\", accuracy_score(y, predictions))\n",
    "print(confusion_matrix(y, predictions))\n",
    "\n",
    "text_representation = tree.export_text(dtree)\n",
    "print(text_representation)\n",
    "\n",
    "#Decision tree accuracy score: 0.6559139784946236\n",
    "#The attributes of hand posture and thumb style can tell a blues guartarist's birth year (whether prior to 1906 or after) with 65.69% accuracy.\n"
   ]
  },
  {
   "cell_type": "code",
   "execution_count": 5,
   "id": "360d862d",
   "metadata": {},
   "outputs": [
    {
     "name": "stdout",
     "output_type": "stream",
     "text": [
      "DT ACCURACY: 0.7096774193548387\n",
      "[[32 10]\n",
      " [17 34]]\n",
      "|--- feature_2 <= 1.50\n",
      "|   |--- feature_1 <= 2.50\n",
      "|   |   |--- feature_0 <= 1.50\n",
      "|   |   |   |--- feature_1 <= 1.50\n",
      "|   |   |   |   |--- class: 1\n",
      "|   |   |   |--- feature_1 >  1.50\n",
      "|   |   |   |   |--- class: 1\n",
      "|   |   |--- feature_0 >  1.50\n",
      "|   |   |   |--- feature_0 <= 2.50\n",
      "|   |   |   |   |--- feature_1 <= 1.50\n",
      "|   |   |   |   |   |--- class: 0\n",
      "|   |   |   |   |--- feature_1 >  1.50\n",
      "|   |   |   |   |   |--- class: 1\n",
      "|   |   |   |--- feature_0 >  2.50\n",
      "|   |   |   |   |--- class: 1\n",
      "|   |--- feature_1 >  2.50\n",
      "|   |   |--- feature_0 <= 1.50\n",
      "|   |   |   |--- class: 0\n",
      "|   |   |--- feature_0 >  1.50\n",
      "|   |   |   |--- class: 0\n",
      "|--- feature_2 >  1.50\n",
      "|   |--- feature_0 <= 1.50\n",
      "|   |   |--- feature_1 <= 2.50\n",
      "|   |   |   |--- feature_1 <= 1.50\n",
      "|   |   |   |   |--- feature_2 <= 2.50\n",
      "|   |   |   |   |   |--- class: 0\n",
      "|   |   |   |   |--- feature_2 >  2.50\n",
      "|   |   |   |   |   |--- class: 0\n",
      "|   |   |   |--- feature_1 >  1.50\n",
      "|   |   |   |   |--- feature_2 <= 2.50\n",
      "|   |   |   |   |   |--- class: 0\n",
      "|   |   |   |   |--- feature_2 >  2.50\n",
      "|   |   |   |   |   |--- class: 1\n",
      "|   |   |--- feature_1 >  2.50\n",
      "|   |   |   |--- class: 0\n",
      "|   |--- feature_0 >  1.50\n",
      "|   |   |--- feature_1 <= 1.50\n",
      "|   |   |   |--- class: 0\n",
      "|   |   |--- feature_1 >  1.50\n",
      "|   |   |   |--- feature_1 <= 2.50\n",
      "|   |   |   |   |--- feature_2 <= 2.50\n",
      "|   |   |   |   |   |--- feature_0 <= 2.50\n",
      "|   |   |   |   |   |   |--- class: 1\n",
      "|   |   |   |   |   |--- feature_0 >  2.50\n",
      "|   |   |   |   |   |   |--- class: 1\n",
      "|   |   |   |   |--- feature_2 >  2.50\n",
      "|   |   |   |   |   |--- class: 1\n",
      "|   |   |   |--- feature_1 >  2.50\n",
      "|   |   |   |   |--- feature_0 <= 2.50\n",
      "|   |   |   |   |   |--- feature_2 <= 2.50\n",
      "|   |   |   |   |   |   |--- class: 0\n",
      "|   |   |   |   |   |--- feature_2 >  2.50\n",
      "|   |   |   |   |   |   |--- class: 0\n",
      "|   |   |   |   |--- feature_0 >  2.50\n",
      "|   |   |   |   |   |--- feature_2 <= 2.50\n",
      "|   |   |   |   |   |   |--- class: 1\n",
      "|   |   |   |   |   |--- feature_2 >  2.50\n",
      "|   |   |   |   |   |   |--- class: 0\n",
      "\n"
     ]
    }
   ],
   "source": [
    "#incorporating region as independent variable\n",
    "X = blues_df[['handPost', 'thumbSty', 'region']]\n",
    "y = blues_df['post1906']\n",
    "\n",
    "dtree = DecisionTreeClassifier()\n",
    "dtree.fit(X, y)\n",
    "\n",
    "predictions = dtree.predict(X)\n",
    "\n",
    "print(\"DT ACCURACY:\", accuracy_score(y, predictions))\n",
    "print(confusion_matrix(y, predictions))\n",
    "\n",
    "text_representation = tree.export_text(dtree)\n",
    "print(text_representation)\n",
    "\n",
    "#Decision tree accuracy score: 0.7096774193548387\n",
    "#The attributes of region, hand posture, and thumb style can tell a blues guartarist's birth year (whether prior to 1906 or after) with 70.97% accuracy.\n",
    "#The decision tree's accuracy score increased by 5.38% after adding the 'region' attribute. "
   ]
  },
  {
   "cell_type": "code",
   "execution_count": 6,
   "id": "0068f18f",
   "metadata": {},
   "outputs": [
    {
     "name": "stdout",
     "output_type": "stream",
     "text": [
      "RF ACCURACY: 0.6071428571428571\n",
      "[[ 3  8]\n",
      " [ 3 14]]\n"
     ]
    },
    {
     "data": {
      "text/plain": [
       "0.5714285714285714"
      ]
     },
     "execution_count": 6,
     "metadata": {},
     "output_type": "execute_result"
    }
   ],
   "source": [
    "#RANDOM FOREST\n",
    "\n",
    "X = blues_df[['handPost','thumbSty']]\n",
    "y = blues_df['post1906']\n",
    "\n",
    "#define train/test data sets at 70% for training and 30% for testing\n",
    "X_train, X_test, y_train, y_test = train_test_split(X, y, test_size = 0.3)\n",
    "\n",
    "rfc = RandomForestClassifier(n_estimators = 100)\n",
    "rfc.fit(X_train, y_train.values.ravel())\n",
    "\n",
    "predictions = rfc.predict(X_test)\n",
    "print(\"RF ACCURACY:\", accuracy_score(y_test, predictions))\n",
    "print(confusion_matrix(y_test, predictions))\n",
    "\n",
    "(0.4642857142857143+0.5714285714285714+0.6428571428571429+0.6071428571428571+0.5+0.6785714285714286+0.5714285714285714+0.5714285714285714+0.5357142857142857+0.5714285714285714)/10\n",
    "#Average of accuracy scores across 10 runs:57.14%\n",
    "#Accuracy score range:46.43%- 57.86%\n",
    "\n",
    "#When using random forest on the dataset with 'handPost' and 'thumbSty' as attributes, the average accuracy score (across 10 runs) is 57.14%.   \n",
    "#The random forest's average accuracy score is 8.43% lower than the decision tree's (at 65.57% accuracy for 'handPost and 'thumbSty' attributes)"
   ]
  },
  {
   "cell_type": "code",
   "execution_count": 9,
   "id": "8fa7a1d5",
   "metadata": {},
   "outputs": [
    {
     "name": "stdout",
     "output_type": "stream",
     "text": [
      "RF ACCURACY: 0.5357142857142857\n",
      "[[7 8]\n",
      " [5 8]]\n"
     ]
    },
    {
     "data": {
      "text/plain": [
       "0.5214285714285715"
      ]
     },
     "execution_count": 9,
     "metadata": {},
     "output_type": "execute_result"
    }
   ],
   "source": [
    "X = blues_df[['handPost', 'thumbSty', 'region']]\n",
    "y = blues_df['post1906']\n",
    "\n",
    "#define train/test data sets at 70% for training and 30% for testing\n",
    "X_train, X_test, y_train, y_test = train_test_split(X, y, test_size = 0.3)\n",
    "\n",
    "rfc = RandomForestClassifier(n_estimators = 100)\n",
    "rfc.fit(X_train, y_train.values.ravel())\n",
    "\n",
    "predictions = rfc.predict(X_test)\n",
    "print(\"RF ACCURACY:\", accuracy_score(y_test, predictions))\n",
    "print(confusion_matrix(y_test, predictions))\n",
    "\n",
    "(0.6071428571428571+0.42857142857142855+0.4642857142857143+0.39285714285714285+0.5+0.5+0.5+0.6071428571428571+0.6428571428571429+0.5714285714285714)/10\n",
    "#Average of accuracy scores across 10 runs:52.14%\n",
    "#Accuracy score range:39.29%- 64.29%\n",
    "\n",
    "#When using random forest on the dataset with 'handPost', 'thumbSty', and 'region' as attributes, the average accuracy score (across 10 runs) is 52.14%.   \n",
    "#The random forest's average accuracy score is 18.83% lower than the decision tree's (at 70.77% accuracy for 'handPost', 'thumbSty' attributes)"
   ]
  }
 ],
 "metadata": {
  "hide_input": false,
  "kernelspec": {
   "display_name": "Python 3 (ipykernel)",
   "language": "python",
   "name": "python3"
  },
  "language_info": {
   "codemirror_mode": {
    "name": "ipython",
    "version": 3
   },
   "file_extension": ".py",
   "mimetype": "text/x-python",
   "name": "python",
   "nbconvert_exporter": "python",
   "pygments_lexer": "ipython3",
   "version": "3.9.7"
  }
 },
 "nbformat": 4,
 "nbformat_minor": 5
}
